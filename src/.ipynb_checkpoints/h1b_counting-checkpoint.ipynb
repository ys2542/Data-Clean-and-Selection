{
 "cells": [
  {
   "cell_type": "code",
   "execution_count": 207,
   "metadata": {},
   "outputs": [],
   "source": [
    "import sys # run python file and get input output files path"
   ]
  },
  {
   "cell_type": "code",
   "execution_count": 234,
   "metadata": {},
   "outputs": [
    {
     "name": "stdout",
     "output_type": "stream",
     "text": [
      "SOFTWARE DEVELOPERS, APPLICATIONS\n",
      "SOFTWARE DEVELOPERS, APPLICATIONS\n",
      "SOFTWARE DEVELOPERS, APPLICATIONS\n",
      "SOFTWARE DEVELOPERS, APPLICATIONS\n",
      "SOFTWARE DEVELOPERS, APPLICATIONS\n",
      "COMPUTER OCCUPATIONS, ALL OTHER\n",
      "SOFTWARE DEVELOPERS, APPLICATIONS\n"
     ]
    }
   ],
   "source": [
    "#[0] xxxx.py\n",
    "#[1] file_name.csv \n",
    "#[2] top_10_occupations.txt\n",
    "#[3] top_10_states.txt\n",
    "#[4] column index of visa status\n",
    "#[5] column index of visa type\n",
    "#[6] column index of occupation\n",
    "#[7] column index of state\n",
    "\"\"\"\n",
    "input_file = sys.argv[1]\n",
    "output_file_occupations = sys.argv[2]\n",
    "output_file_states = sys.argv[3]\n",
    "status = int(sys.argv[4])\n",
    "visa = int(sys.argv[5])\n",
    "occupation = int(sys.argv[6])\n",
    "state = int(sys.argv[7])\n",
    "\"\"\"\n",
    "#input_file = '../input/H1B_FY_2016.csv'\n",
    "input_file = '../input/h1b_input.csv'\n",
    "output_file_occupations = '../output/top_10_occupations.txt'\n",
    "output_file_states = '../output/top_10_states.txt'\n",
    "status = 2\n",
    "visa = 5\n",
    "#occupation = 20\n",
    "#state = 38\n",
    "occupation = 24\n",
    "state = 50\n",
    "\n",
    "occupation_dict = {} # store occupation with its certified number\n",
    "state_dict = {} # store state with its certified number\n",
    "count = 0 # count total certified number\n",
    "\n",
    "f = open(input_file) # open csv file\n",
    "for row in f: # read each row\n",
    "    data = row.split(';') # csv file seperated by ';'\n",
    "    if(data[24][0] == '\"' and data[24][0] == '\"'): # remove strange case(value with \"\")\n",
    "        data[24] = data[24][1:-1]\n",
    "    if data[visa].split(' ')[0] in ['H-1B', 'H-1B1','E-3'] and data[status] == 'CERTIFIED': # find target\n",
    "        count = count + 1 # count number\n",
    "        \n",
    "        try:\n",
    "            occupation_dict[data[occupation]] = occupation_dict[data[occupation]] + 1 # count occupation with its number\n",
    "        except:\n",
    "            occupation_dict[data[occupation]] = 1 # zero number before\n",
    "        try:\n",
    "            state_dict[data[state]] = state_dict[data[state]] + 1 # count state with its number\n",
    "        except:\n",
    "            state_dict[data[state]] = 1 # zero number before"
   ]
  },
  {
   "cell_type": "code",
   "execution_count": 224,
   "metadata": {},
   "outputs": [],
   "source": [
    "# sort key in ascending order and value in descending order and get first 10 \n",
    "occupation_dict_10 = sorted(occupation_dict.items(), key=lambda x: (-x[1], x[0]))[0:10]\n",
    "state_dict_10 = sorted(state_dict.items(), key=lambda x: (-x[1], x[0]))[0:10]"
   ]
  },
  {
   "cell_type": "code",
   "execution_count": 225,
   "metadata": {},
   "outputs": [],
   "source": [
    "f = open(output_file_occupations, 'w+') # open output file\n",
    "# clean file\n",
    "f.seek(0)\n",
    "f.truncate()\n",
    "# print 1st line\n",
    "print('TOP_OCCUPATIONS;NUMBER_CERTIFIED_APPLICATIONS;PERCENTAGE', file=open(output_file_occupations, 'a'))\n",
    "# check output lines\n",
    "if(len(occupation_dict_10) < 10):\n",
    "    size = len(occupation_dict_10)\n",
    "else:\n",
    "    size = 10\n",
    "# print value in the format\n",
    "for i in range(size):\n",
    "    print(\"{};{};\".format(occupation_dict_10[i][0], occupation_dict_10[i][1]) + '%.1f'%(round(100 * occupation_dict_10[i][1] / count, 1)) + '%', file=open(output_file_occupations, 'a'))"
   ]
  },
  {
   "cell_type": "code",
   "execution_count": 226,
   "metadata": {},
   "outputs": [],
   "source": [
    "f = open(output_file_states, 'w+') # open output file\n",
    "# clean file\n",
    "f.seek(0)\n",
    "f.truncate()\n",
    "# print 1st line\n",
    "print('TOP_STATES;NUMBER_CERTIFIED_APPLICATIONS;PERCENTAGE', file=open(output_file_states, 'a'))\n",
    "# check output lines\n",
    "if(len(state_dict_10) < 10):\n",
    "    size = len(state_dict_10)\n",
    "else:\n",
    "    size = 10\n",
    "# print value in the format\n",
    "for i in range(size):\n",
    "    print(\"{};{};\".format(state_dict_10[i][0], state_dict_10[i][1]) + '%.1f'%(round(100 * state_dict_10[i][1] / count, 1)) + '%', file=open(output_file_states, 'a'))"
   ]
  },
  {
   "cell_type": "code",
   "execution_count": 200,
   "metadata": {
    "collapsed": true
   },
   "outputs": [],
   "source": [
    "import pandas as pd\n",
    "h1b_input = pd.read_csv('../input/h1b_input.csv', sep=';')"
   ]
  },
  {
   "cell_type": "code",
   "execution_count": 218,
   "metadata": {},
   "outputs": [
    {
     "data": {
      "text/plain": [
       "0    SOFTWARE DEVELOPERS, APPLICATIONS\n",
       "1             ACCOUNTANTS AND AUDITORS\n",
       "2              DATABASE ADMINISTRATORS\n",
       "3    SOFTWARE DEVELOPERS, APPLICATIONS\n",
       "4    SOFTWARE DEVELOPERS, APPLICATIONS\n",
       "5    SOFTWARE DEVELOPERS, APPLICATIONS\n",
       "6    SOFTWARE DEVELOPERS, APPLICATIONS\n",
       "7             COMPUTER SYSTEMS ANALYST\n",
       "8      COMPUTER OCCUPATIONS, ALL OTHER\n",
       "9    SOFTWARE DEVELOPERS, APPLICATIONS\n",
       "Name: SOC_NAME, dtype: object"
      ]
     },
     "execution_count": 218,
     "metadata": {},
     "output_type": "execute_result"
    }
   ],
   "source": [
    "h1b_input[h1b_input.columns[24]]"
   ]
  },
  {
   "cell_type": "code",
   "execution_count": 176,
   "metadata": {
    "collapsed": true
   },
   "outputs": [],
   "source": [
    "a = {}\n",
    "a[h1b_input[h1b_input.columns[24]][9]] = 1"
   ]
  },
  {
   "cell_type": "code",
   "execution_count": 177,
   "metadata": {},
   "outputs": [
    {
     "data": {
      "text/plain": [
       "{'SOFTWARE DEVELOPERS, APPLICATIONS': 1}"
      ]
     },
     "execution_count": 177,
     "metadata": {},
     "output_type": "execute_result"
    }
   ],
   "source": [
    "a"
   ]
  },
  {
   "cell_type": "code",
   "execution_count": 227,
   "metadata": {},
   "outputs": [
    {
     "data": {
      "text/plain": [
       "{'\"COMPUTER OCCUPATIONS, ALL OTHER\"': 1,\n",
       " '\"SOFTWARE DEVELOPERS, APPLICATIONS\"': 6,\n",
       " 'ACCOUNTANTS AND AUDITORS': 1,\n",
       " 'COMPUTER SYSTEMS ANALYST': 1,\n",
       " 'DATABASE ADMINISTRATORS': 1}"
      ]
     },
     "execution_count": 227,
     "metadata": {},
     "output_type": "execute_result"
    }
   ],
   "source": [
    "occupation_dict"
   ]
  },
  {
   "cell_type": "code",
   "execution_count": null,
   "metadata": {
    "collapsed": true
   },
   "outputs": [],
   "source": []
  }
 ],
 "metadata": {
  "kernelspec": {
   "display_name": "Python 3",
   "language": "python",
   "name": "python3"
  },
  "language_info": {
   "codemirror_mode": {
    "name": "ipython",
    "version": 3
   },
   "file_extension": ".py",
   "mimetype": "text/x-python",
   "name": "python",
   "nbconvert_exporter": "python",
   "pygments_lexer": "ipython3",
   "version": "3.6.1"
  }
 },
 "nbformat": 4,
 "nbformat_minor": 2
}
